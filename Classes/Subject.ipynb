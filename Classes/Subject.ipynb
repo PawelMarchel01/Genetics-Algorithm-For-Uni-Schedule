{
  "nbformat": 4,
  "nbformat_minor": 0,
  "metadata": {
    "colab": {
      "provenance": []
    },
    "kernelspec": {
      "name": "python3",
      "display_name": "Python 3"
    },
    "language_info": {
      "name": "python"
    }
  },
  "cells": [
    {
      "cell_type": "code",
      "execution_count": null,
      "metadata": {
        "id": "0R7hRfl5lwS4"
      },
      "outputs": [],
      "source": [
        "class Subject:\n",
        "\n",
        "    #Seting room category\n",
        "    other_classes = 0\n",
        "    labolatories = 1\n",
        "    pe = 2\n",
        "    english = 3\n",
        "\n",
        "    #initiating Subject\n",
        "    def __init__(self, name, lecturer, students, room = 'brak' ,classtype='other_classes'):\n",
        "        self.name=name\n",
        "        self.lecturer=lecturer\n",
        "        self.students=students\n",
        "        if classtype == 'other_classes':\n",
        "             self.classtype = 0\n",
        "        elif classtype == 'pe':\n",
        "             self.classtype = 2\n",
        "        elif classtype == 'english':\n",
        "             self.classtype = 3\n",
        "        else:\n",
        "             self.classtype = 1\n",
        "        self.room='brak'\n",
        "\n",
        "    def add_room(self, name):\n",
        "        self.room = name\n",
        "\n",
        "    def __str__(self):\n",
        "        return self.name + '\\t Prowadzący: ' + self.lecturer.name + '\\t Sala: '  + self.room"
      ]
    }
  ]
}