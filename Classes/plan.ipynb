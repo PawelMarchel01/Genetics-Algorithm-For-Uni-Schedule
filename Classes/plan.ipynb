{
  "nbformat": 4,
  "nbformat_minor": 0,
  "metadata": {
    "colab": {
      "provenance": []
    },
    "kernelspec": {
      "name": "python3",
      "display_name": "Python 3"
    },
    "language_info": {
      "name": "python"
    }
  },
  "cells": [
    {
      "cell_type": "code",
      "execution_count": null,
      "metadata": {
        "id": "0R7hRfl5lwS4"
      },
      "outputs": [],
      "source": [
        "class plan:\n",
        "\n",
        "  def __init__(self, wynik_heurystyki):\n",
        "    self.wynik_heurystyki = wynik_heurystyki\n",
        "    self.best = self.wynik_heurystyki.ancestors.population[0]\n",
        "    self.sale_name = list(self.wynik_heurystyki.ancestors.plan.university.rooms)\n",
        "\n",
        "  def day_time_room(self):\n",
        "    for category in range(len(self.best)):\n",
        "      for room in range(len(self.best[category])):\n",
        "        for i in range(len(self.best[category][room])):\n",
        "          if type(self.best[category][room][i]) == Subject:\n",
        "            self.best[category][room][i].day = i // 5\n",
        "            self.best[category][room][i].time = i % 5\n",
        "            self.best[category][room][i].room = self.sale_name[0]\n",
        "        del self.sale_name[0]\n",
        "\n",
        "  def empty_the_plan(self):\n",
        "    for category in range(len(self.best)):\n",
        "      for room in range(len(self.best[category])):\n",
        "        for i in range(len(self.best[category][room])):\n",
        "          if type(self.best[category][room][i]) == Subject:\n",
        "            self.best[category][room][i].lecturer.class_assignment = self.best[category][room][i].lecturer.class_assignment.applymap(lambda x: np.NaN)\n",
        "            self.best[category][room][i].students.class_assignment = self.best[category][room][i].students.class_assignment.applymap(lambda x: np.NaN)\n",
        "\n",
        "  def clenerka(self):\n",
        "    self.sale = list(self.wynik_heurystyki.ancestors.plan.university.rooms.values())\n",
        "    for i in range(len(self.sale)):\n",
        "      self.sale[i].class_assignment = self.sale[i].class_assignment.applymap(lambda x: np.NaN)\n",
        "\n",
        "  def class_assigment(self):\n",
        "    for category in range(len(self.best)):\n",
        "      for room in range(len(self.best[category])):\n",
        "        for i in range(len(self.best[category][room])):\n",
        "          if type(self.best[category][room][i]) == Subject:\n",
        "            for prof in range(len(self.wynik_heurystyki.ancestors.plan.teachers)):\n",
        "              if self.best[category][room][i].lecturer.name == self.wynik_heurystyki.ancestors.plan.teachers[prof].name:\n",
        "                self.wynik_heurystyki.ancestors.plan.teachers[prof].assign_classes(self.best[category][room][i])\n",
        "            self.best[category][room][i].students.assign_classes(self.best[category][room][i])\n",
        "            for j in range(len(self.sale)):\n",
        "              if self.sale[j].name == self.best[category][room][i].room:\n",
        "                self.sale[j].assign_classes(self.best[category][room][i])\n",
        "\n",
        "  def list_to_df(self):\n",
        "    self.day_time_room()\n",
        "    self.empty_the_plan()\n",
        "    self.clenerka()\n",
        "    self.class_assigment()"
      ]
    }
  ]
}