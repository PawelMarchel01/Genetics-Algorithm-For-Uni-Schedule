{
  "nbformat": 4,
  "nbformat_minor": 0,
  "metadata": {
    "colab": {
      "provenance": []
    },
    "kernelspec": {
      "name": "python3",
      "display_name": "Python 3"
    },
    "language_info": {
      "name": "python"
    }
  },
  "cells": [
    {
      "cell_type": "code",
      "execution_count": null,
      "metadata": {
        "id": "0R7hRfl5lwS4"
      },
      "outputs": [],
      "source": [
        "import genetic_algorithm\n",
        "\n",
        "class heuristic:\n",
        "\n",
        "  def __init__(self, number_pop, dane, cycle_number):\n",
        "    self.number_pop = number_pop\n",
        "    self.dane = dane\n",
        "    self.cycle_number = cycle_number\n",
        "\n",
        "  def execute(self):\n",
        "\n",
        "    self.ancestors = genetic_algorithm(number_pop = self.number_pop, dane = self.dane)\n",
        "\n",
        "    self.ancestors.population_generation()\n",
        "\n",
        "    for i in range(self.cycle_number):\n",
        "        self.ancestors.crossover_operator()\n",
        "        self.ancestors.cut_fitness()\n",
        "        self.ancestors.select_by_fitness_2()\n",
        "        if i == 1:\n",
        "          print(\"First fitness score: \" + str(self.ancestors.calc_fitness_3))\n",
        "        if i == self.cycle_number-1:\n",
        "          print(\"Last fitness score: \" + str(self.ancestors.calc_fitness_3))"
      ]
    }
  ]
}