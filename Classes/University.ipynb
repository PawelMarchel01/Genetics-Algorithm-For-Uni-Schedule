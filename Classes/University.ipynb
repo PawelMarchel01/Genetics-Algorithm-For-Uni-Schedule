{
  "nbformat": 4,
  "nbformat_minor": 0,
  "metadata": {
    "colab": {
      "provenance": []
    },
    "kernelspec": {
      "name": "python3",
      "display_name": "Python 3"
    },
    "language_info": {
      "name": "python"
    }
  },
  "cells": [
    {
      "cell_type": "code",
      "execution_count": null,
      "metadata": {
        "id": "0R7hRfl5lwS4"
      },
      "outputs": [],
      "source": [
        "class University:\n",
        "\n",
        "    #initiating University\n",
        "    def __init__(self):\n",
        "        self.professors={}\n",
        "        self.grades={}\n",
        "        self.rooms={}\n",
        "\n",
        "    #addin room\n",
        "    def add_room(self, name, classtype='standard'):\n",
        "        self.rooms[name]=Room(name, classtype)\n",
        "\n",
        "    #addin grade\n",
        "    def add_grade(self, name, year):\n",
        "        self.grades[name]=Students(year)\n",
        "\n",
        "    #addin professor\n",
        "    def add_professor(self, name):\n",
        "        self.professors[name]=Professor(name)"
      ]
    }
  ]
}