{
  "nbformat": 4,
  "nbformat_minor": 0,
  "metadata": {
    "colab": {
      "provenance": []
    },
    "kernelspec": {
      "name": "python3",
      "display_name": "Python 3"
    },
    "language_info": {
      "name": "python"
    }
  },
  "cells": [
    {
      "cell_type": "code",
      "execution_count": null,
      "metadata": {
        "id": "0R7hRfl5lwS4"
      },
      "outputs": [],
      "source": [
        "class Students:\n",
        "\n",
        "    #initiating Students\n",
        "    def __init__(self, year):\n",
        "        self.year = year\n",
        "        self.class_assignment = pd.DataFrame(columns=Weekdays.days, index=['8-10','10-12','12-14','14-16','16-18'])\n",
        "\n",
        "    def assign_classes(self, lecture):\n",
        "        day = lecture.day\n",
        "        time = lecture.time\n",
        "        if pd.isnull(self.class_assignment.iloc[time, day])==False:\n",
        "            raise(ValueError('Trying to assign a class to ocupied students!'))\n",
        "        else:\n",
        "            self.class_assignment.iloc[time, day]=lecture"
      ]
    }
  ]
}